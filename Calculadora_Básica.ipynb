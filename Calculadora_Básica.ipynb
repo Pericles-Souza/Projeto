{
  "nbformat": 4,
  "nbformat_minor": 0,
  "metadata": {
    "colab": {
      "provenance": [],
      "authorship_tag": "ABX9TyMx2f6EbMlFj1U2ld1iQTLm",
      "include_colab_link": true
    },
    "kernelspec": {
      "name": "python3",
      "display_name": "Python 3"
    },
    "language_info": {
      "name": "python"
    }
  },
  "cells": [
    {
      "cell_type": "markdown",
      "metadata": {
        "id": "view-in-github",
        "colab_type": "text"
      },
      "source": [
        "<a href=\"https://colab.research.google.com/github/Pericles-Souza/Projeto/blob/main/Calculadora_B%C3%A1sica.ipynb\" target=\"_parent\"><img src=\"https://colab.research.google.com/assets/colab-badge.svg\" alt=\"Open In Colab\"/></a>"
      ]
    },
    {
      "cell_type": "code",
      "source": [
        "def calculadora():\n",
        "    while True:\n",
        "        print(\"\\nCalculadora Simples\")\n",
        "\n",
        "        # Perguntar ao usuário qual tipo de operação ele deseja\n",
        "        print(\"Escolha o tipo de operação:\")\n",
        "        print(\"1 - Aritmética (+, -, *, /)\")\n",
        "        print(\"2 - Lógica (>, <, >=, <=, ==, !=)\")\n",
        "        tipo = input(\"Digite 1 para Aritmética ou 2 para Lógica: \")\n",
        "\n",
        "        # Pegando os números do usuário\n",
        "        num1 = float(input(\"Digite o primeiro número: \"))\n",
        "        num2 = float(input(\"Digite o segundo número: \"))\n",
        "\n",
        "        # Se for operação aritmética\n",
        "        if tipo == \"1\":\n",
        "            print(\"Escolha a operação: +, -, *, /\")\n",
        "            operacao = input(\"Digite a operação: \")\n",
        "\n",
        "            if operacao == \"+\":\n",
        "                resultado = num1 + num2\n",
        "            elif operacao == \"-\":\n",
        "                resultado = num1 - num2\n",
        "            elif operacao == \"*\":\n",
        "                resultado = num1 * num2\n",
        "            elif operacao == \"/\":\n",
        "                resultado = num1 / num2 if num2 != 0 else \"Erro! Divisão por zero.\"\n",
        "            else:\n",
        "                resultado = \"Operação inválida!\"\n",
        "\n",
        "        # Se for operação lógica\n",
        "        elif tipo == \"2\":\n",
        "            print(\"Escolha a operação: >, <, >=, <=, ==, !=\")\n",
        "            operacao = input(\"Digite a operação: \")\n",
        "\n",
        "            if operacao == \">\":\n",
        "                resultado = \"Verdadeiro\" if num1 > num2 else \"Falso\"\n",
        "            elif operacao == \"<\":\n",
        "                resultado = \"Verdadeiro\" if num1 < num2 else \"Falso\"\n",
        "            elif operacao == \">=\":\n",
        "                resultado = \"Verdadeiro\" if num1 >= num2 else \"Falso\"\n",
        "            elif operacao == \"<=\":\n",
        "                resultado = \"Verdadeiro\" if num1 <= num2 else \"Falso\"\n",
        "            elif operacao == \"==\":\n",
        "                resultado = \"Verdadeiro\" if num1 == num2 else \"Falso\"\n",
        "            elif operacao == \"!=\":\n",
        "                resultado = \"Verdadeiro\" if num1 != num2 else \"Falso\"\n",
        "            else:\n",
        "                resultado = \"Operação inválida!\"\n",
        "\n",
        "        else:\n",
        "            resultado = \"Tipo de operação inválido!\"\n",
        "\n",
        "        print(\"Resultado:\", resultado)\n",
        "\n",
        "        # Perguntar se o usuário quer continuar\n",
        "        continuar = input(\"\\nDeseja fazer outro cálculo? (s/n): \").lower()\n",
        "        if continuar != \"s\":\n",
        "            print(\"Encerrando a calculadora. Até mais!\")\n",
        "            break  # Sai do loop e encerra o programa\n",
        "\n",
        "# Chamando a função\n",
        "calculadora()\n"
      ],
      "metadata": {
        "colab": {
          "base_uri": "https://localhost:8080/"
        },
        "id": "b0qqULj_IFdY",
        "outputId": "4609b0f1-fdaf-4a71-ea16-702703f6bad0"
      },
      "execution_count": 3,
      "outputs": [
        {
          "output_type": "stream",
          "name": "stdout",
          "text": [
            "\n",
            "Calculadora Simples\n",
            "Escolha o tipo de operação:\n",
            "1 - Aritmética (+, -, *, /)\n",
            "2 - Lógica (>, <, >=, <=, ==, !=)\n",
            "Digite 1 para Aritmética ou 2 para Lógica: 2\n",
            "Digite o primeiro número: 10\n",
            "Digite o segundo número: 20\n",
            "Escolha a operação: >, <, >=, <=, ==, !=\n",
            "Digite a operação: ==\n",
            "Resultado: Falso\n",
            "\n",
            "Deseja fazer outro cálculo? (s/n): s\n",
            "\n",
            "Calculadora Simples\n",
            "Escolha o tipo de operação:\n",
            "1 - Aritmética (+, -, *, /)\n",
            "2 - Lógica (>, <, >=, <=, ==, !=)\n",
            "Digite 1 para Aritmética ou 2 para Lógica: 1\n",
            "Digite o primeiro número: 10\n",
            "Digite o segundo número: 5\n",
            "Escolha a operação: +, -, *, /\n",
            "Digite a operação: *\n",
            "Resultado: 50.0\n",
            "\n",
            "Deseja fazer outro cálculo? (s/n): n\n",
            "Encerrando a calculadora. Até mais!\n"
          ]
        }
      ]
    }
  ]
}